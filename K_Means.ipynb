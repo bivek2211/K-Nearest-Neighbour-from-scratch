{
  "nbformat": 4,
  "nbformat_minor": 0,
  "metadata": {
    "colab": {
      "name": "Welcome To Colaboratory",
      "version": "0.3.2",
      "provenance": [],
      "collapsed_sections": [],
      "toc_visible": true,
      "include_colab_link": true
    },
    "kernelspec": {
      "display_name": "Python 3",
      "name": "python3"
    }
  },
  "cells": [
    {
      "cell_type": "markdown",
      "metadata": {
        "id": "view-in-github",
        "colab_type": "text"
      },
      "source": [
        "<a href=\"https://colab.research.google.com/github/bivek2211/K-Nearest-Neighbour-from-scratch/blob/master/K_Means.ipynb\" target=\"_parent\"><img src=\"https://colab.research.google.com/assets/colab-badge.svg\" alt=\"Open In Colab\"/></a>"
      ]
    },
    {
      "cell_type": "markdown",
      "metadata": {
        "id": "PVlOQ7eYMHxz",
        "colab_type": "text"
      },
      "source": [
        "# K-Means Clustering Without ML Libraries\n",
        "\n",
        "K-Means Clustering is a machine learning tecnique used in unsupervised learning where we don't have labeled data or finding groups of points in your data that share similar features. I wrote this algorithm without using any of Machine Learning Libraries."
      ]
    },
    {
      "cell_type": "markdown",
      "metadata": {
        "id": "uGCwjTzZMYXd",
        "colab_type": "text"
      },
      "source": [
        "**How K-Means Clustering Algorithm Works?**\n",
        "\n",
        "\n",
        "1.   First algorithm creates k number of centers randomly.\n",
        "2.   Then, all data points are labeled using nearest centers.\n",
        "3.   Then, centers are moved to \"mean\" of their labeled data points.\n",
        "4.   Repeat steps 2 and 3 till centroid didn't change\n"
      ]
    },
    {
      "cell_type": "markdown",
      "metadata": {
        "id": "QxkPrJjaMzMv",
        "colab_type": "text"
      },
      "source": [
        "**Import Libraries**\n",
        "\n",
        "I use only numpy for math, random for random centers and matplotlib for data visualization"
      ]
    },
    {
      "cell_type": "code",
      "metadata": {
        "id": "rv-fWbAbMMuQ",
        "colab_type": "code",
        "colab": {}
      },
      "source": [
        "import numpy as np\n",
        "import matplotlib.pyplot as plt\n",
        "import random\n",
        "\n",
        "# Use matplotlib in notebook output\n",
        "%matplotlib inline"
      ],
      "execution_count": 0,
      "outputs": []
    },
    {
      "cell_type": "markdown",
      "metadata": {
        "id": "LUTQFxKwM6i3",
        "colab_type": "text"
      },
      "source": [
        "**Define Data**\n",
        "\n",
        "First I will define a data to test the algorithm on. The data I am using in this notebook is fake data but to understand it, let's think it is player statistics of a soccer game.\n",
        "\n",
        "(X,Y ) X: Average passes by players in a team   and    Y : net goals (goals scored - goals conceived)"
      ]
    },
    {
      "cell_type": "code",
      "metadata": {
        "id": "PZB3X5pLM5Jf",
        "colab_type": "code",
        "colab": {}
      },
      "source": [
        "# Data - [average passes by team, net goals (player goals - opponent goals)]\n",
        "X = [[100,5], [90,5], [110,5], [97,4], [102,4], [112,4], [92,4], [95,3], [90,3], [100,3],\n",
        "     [110,5], [100,5], [110,4], [93,3], [107,2], [117,3], [96,2], [105,3], [100,3], [110,3],\n",
        "     [60,-1], [70,-1],[40,1], [70,-3], [50,-1], [80,0],[50,0],[60,-1],[60,1],[55,0],\n",
        "     [40,-1], [45,-1],[40,0], [55,-3], [60,-1], [65,0],[70,0],[51,-2],[51,1],[48,0]]"
      ],
      "execution_count": 0,
      "outputs": []
    },
    {
      "cell_type": "markdown",
      "metadata": {
        "id": "dB-F0p4VOYFn",
        "colab_type": "text"
      },
      "source": [
        "**Plot the data on a 2d graph**"
      ]
    },
    {
      "cell_type": "code",
      "metadata": {
        "id": "_mnugvytOaBz",
        "colab_type": "code",
        "colab": {
          "base_uri": "https://localhost:8080/",
          "height": 286
        },
        "outputId": "9fbe15f9-88a8-4e22-8ab8-c45c5f843f22"
      },
      "source": [
        "plotx = []\n",
        "ploty = []\n",
        "for i in range(len(X)):\n",
        "    plotx.append(X[i][0])\n",
        "    ploty.append(X[i][1])\n",
        "plt.plot(plotx,ploty, 'bo')"
      ],
      "execution_count": 11,
      "outputs": [
        {
          "output_type": "execute_result",
          "data": {
            "text/plain": [
              "[<matplotlib.lines.Line2D at 0x7f820259da20>]"
            ]
          },
          "metadata": {
            "tags": []
          },
          "execution_count": 11
        },
        {
          "output_type": "display_data",
          "data": {
            "image/png": "[encoded data removed]",
            "text/plain": [
              "<Figure size 432x288 with 1 Axes>"
            ]
          },
          "metadata": {
            "tags": []
          }
        }
      ]
    },
    {
      "cell_type": "markdown",
      "metadata": {
        "id": "gr9eCOanOegL",
        "colab_type": "text"
      },
      "source": [
        "**Helper Functions**"
      ]
    },
    {
      "cell_type": "code",
      "metadata": {
        "id": "pt7sVYfBOV1l",
        "colab_type": "code",
        "colab": {}
      },
      "source": [
        "def random_centers(dim,k):\n",
        "    centers = []\n",
        "    for i in range(k):\n",
        "        center = []\n",
        "        for d in range(dim):\n",
        "            rand = random.randint(0,100)\n",
        "            center.append(rand)\n",
        "        centers.append(center)\n",
        "    return centers\n",
        "\n",
        "def point_clustering(data, centers, dims, first_cluster=False):\n",
        "    for point in data:\n",
        "        nearest_center = 0\n",
        "        nearest_center_dist = None\n",
        "        for i in range(0, len(centers)):\n",
        "            euclidean_dist = 0\n",
        "            for d in range(0, dims):\n",
        "                dist = abs(point[d] - centers[i][d])\n",
        "                euclidean_dist += dist\n",
        "            euclidean_dist = np.sqrt(euclidean_dist)\n",
        "            if nearest_center_dist == None:\n",
        "                nearest_center_dist = euclidean_dist\n",
        "                nearest_center = i\n",
        "            elif nearest_center_dist > euclidean_dist:\n",
        "                nearest_center_dist = euclidean_dist\n",
        "                nearest_center = i\n",
        "        if first_cluster:\n",
        "            point.append(nearest_center)\n",
        "        else:\n",
        "            point[-1] = nearest_center\n",
        "    return data\n",
        "\n",
        "def mean_center(data, centers, dims):\n",
        "    print('centers:', centers, 'dims:', dims)\n",
        "    new_centers = []\n",
        "    for i in range(len(centers)):\n",
        "        new_center = []\n",
        "        n_of_points = 0\n",
        "        total_of_points = []\n",
        "        for point in data:\n",
        "            if point[-1] == i:\n",
        "                n_of_points += 1\n",
        "                for dim in range(0,dims):\n",
        "                    if dim < len(total_of_points):\n",
        "                        total_of_points[dim] += point[dim]\n",
        "                    else:\n",
        "                        total_of_points.append(point[dim])\n",
        "        if len(total_of_points) != 0:\n",
        "            for dim in range(0,dims):\n",
        "                print(total_of_points, dim)\n",
        "                new_center.append(total_of_points[dim]/n_of_points)\n",
        "            new_centers.append(new_center)\n",
        "        else: \n",
        "            new_centers.append(centers[i])\n",
        "        \n",
        "            \n",
        "    return new_centers"
      ],
      "execution_count": 0,
      "outputs": []
    },
    {
      "cell_type": "markdown",
      "metadata": {
        "id": "MHlqXwteOqxQ",
        "colab_type": "text"
      },
      "source": [
        "**K-Means Clustering Algorithm**"
      ]
    },
    {
      "cell_type": "code",
      "metadata": {
        "id": "1s0uI8OZOttx",
        "colab_type": "code",
        "colab": {}
      },
      "source": [
        "# Gets data and k, returns a list of center points.\n",
        "def train_k_means_clustering(data, k=2, epochs=5):\n",
        "    dims = len(data[0])\n",
        "    print('data[0]:',data[0])\n",
        "    centers = random_centers(dims,k)\n",
        "    \n",
        "    clustered_data = point_clustering(data, centers, dims, first_cluster=True)\n",
        "\n",
        "    for i in range(epochs):\n",
        "        centers = mean_center(clustered_data, centers, dims)\n",
        "        clustered_data = point_clustering(data, centers, dims, first_cluster=False)\n",
        "    \n",
        "    return centers\n",
        "\n",
        "def predict_k_means_clustering(point, centers):\n",
        "    dims = len(point)\n",
        "    center_dims = len(centers[0])\n",
        "    \n",
        "    if dims != center_dims:\n",
        "        raise ValueError('Point given for prediction have', dims, 'dimensions but centers have', center_dims, 'dimensions')\n",
        "\n",
        "    nearest_center = None\n",
        "    nearest_dist = None\n",
        "    \n",
        "    for i in range(len(centers)):\n",
        "        euclidean_dist = 0\n",
        "        for dim in range(1, dims):\n",
        "            dist = point[dim] - centers[i][dim]\n",
        "            euclidean_dist += dist**2\n",
        "        euclidean_dist = np.sqrt(euclidean_dist)\n",
        "        if nearest_dist == None:\n",
        "            nearest_dist = euclidean_dist\n",
        "            nearest_center = i\n",
        "        elif nearest_dist > euclidean_dist:\n",
        "            nearest_dist = euclidean_dist\n",
        "            nearest_center = i\n",
        "        print('center:',i, 'dist:',euclidean_dist)\n",
        "            \n",
        "    return nearest_center"
      ],
      "execution_count": 0,
      "outputs": []
    },
    {
      "cell_type": "code",
      "metadata": {
        "id": "TRtqSqo-OyR4",
        "colab_type": "code",
        "colab": {
          "base_uri": "https://localhost:8080/",
          "height": 454
        },
        "outputId": "46f729d5-a6c3-4e40-b4a3-2770f455c3c3"
      },
      "source": [
        "# no of cluster = 2 and iteration = 5\n",
        "centers = train_k_means_clustering(X, k=2, epochs=5)"
      ],
      "execution_count": 14,
      "outputs": [
        {
          "output_type": "stream",
          "text": [
            "data[0]: [100, 5]\n",
            "centers: [[21, 66], [57, 81]] dims: 2\n",
            "[165, -1] 0\n",
            "[165, -1] 1\n",
            "[2991, 62] 0\n",
            "[2991, 62] 1\n",
            "centers: [[41.25, -0.25], [83.08333333333333, 1.7222222222222223]] dims: 2\n",
            "[765, -8] 0\n",
            "[765, -8] 1\n",
            "[2391, 69] 0\n",
            "[2391, 69] 1\n",
            "centers: [[51.0, -0.5333333333333333], [95.64, 2.76]] dims: 2\n",
            "[1040, -12] 0\n",
            "[1040, -12] 1\n",
            "[2116, 73] 0\n",
            "[2116, 73] 1\n",
            "centers: [[54.73684210526316, -0.631578947368421], [100.76190476190476, 3.4761904761904763]] dims: 2\n",
            "[1040, -12] 0\n",
            "[1040, -12] 1\n",
            "[2116, 73] 0\n",
            "[2116, 73] 1\n",
            "centers: [[54.73684210526316, -0.631578947368421], [100.76190476190476, 3.4761904761904763]] dims: 2\n",
            "[1040, -12] 0\n",
            "[1040, -12] 1\n",
            "[2116, 73] 0\n",
            "[2116, 73] 1\n"
          ],
          "name": "stdout"
        }
      ]
    },
    {
      "cell_type": "code",
      "metadata": {
        "id": "XM4A34eVPAZ9",
        "colab_type": "code",
        "colab": {
          "base_uri": "https://localhost:8080/",
          "height": 34
        },
        "outputId": "d80eda26-a29a-4860-bf4d-8ac82ba55bae"
      },
      "source": [
        "print(centers)"
      ],
      "execution_count": 15,
      "outputs": [
        {
          "output_type": "stream",
          "text": [
            "[[54.73684210526316, -0.631578947368421], [100.76190476190476, 3.4761904761904763]]\n"
          ],
          "name": "stdout"
        }
      ]
    },
    {
      "cell_type": "code",
      "metadata": {
        "id": "5FOWL52xPTUo",
        "colab_type": "code",
        "colab": {
          "base_uri": "https://localhost:8080/",
          "height": 386
        },
        "outputId": "5dc75e0b-f4ee-4eaf-df0b-80edf0d22702"
      },
      "source": [
        "point = [110,3]\n",
        "print(predict_k_means_clustering(point, centers))\n",
        "\n",
        "plt.plot(plotx,ploty, 'bo', centers[0][0], centers[0][1],'ro', centers[1][0], centers[1][1], 'go', point[0], point[1], 'yo')"
      ],
      "execution_count": 16,
      "outputs": [
        {
          "output_type": "stream",
          "text": [
            "center: 0 dist: 3.6315789473684212\n",
            "center: 1 dist: 0.4761904761904763\n",
            "1\n"
          ],
          "name": "stdout"
        },
        {
          "output_type": "execute_result",
          "data": {
            "text/plain": [
              "[<matplotlib.lines.Line2D at 0x7f820257dd68>,\n",
              " <matplotlib.lines.Line2D at 0x7f820257de80>,\n",
              " <matplotlib.lines.Line2D at 0x7f8202519208>,\n",
              " <matplotlib.lines.Line2D at 0x7f8202519550>]"
            ]
          },
          "metadata": {
            "tags": []
          },
          "execution_count": 16
        },
        {
          "output_type": "display_data",
          "data": {
            "image/png": "[encoded data removed]",
            "text/plain": [
              "<Figure size 432x288 with 1 Axes>"
            ]
          },
          "metadata": {
            "tags": []
          }
        }
      ]
    },
    {
      "cell_type": "markdown",
      "metadata": {
        "id": "aBG3tK15PnJg",
        "colab_type": "text"
      },
      "source": [
        "Watch how the centroids adjust with our dataset. I think it will work fine for 4 epochs too, but picking k is completely trial and error method for such a small dataset. For huge dataset 'elbow method' is the best visualization method to pick k."
      ]
    },
    {
      "cell_type": "markdown",
      "metadata": {
        "id": "lnPz-8V0SrZc",
        "colab_type": "text"
      },
      "source": [
        "**Conclusion**\n",
        "\n",
        "There are lots of cool ways K-Means can be implemented with real world data both for supervised and unsupervised learning -  for things like identifying disease, cybersecurity, search engines, consumer analysis, and many more.\n",
        "\n",
        "How can you apply K-Means to your data? Simply use** K-Means ** function from SciKit-Learn package, instead of re-implementing it over and over. "
      ]
    }
  ]
}